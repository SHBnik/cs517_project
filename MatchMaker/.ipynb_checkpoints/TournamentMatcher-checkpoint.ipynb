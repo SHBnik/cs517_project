{
 "cells": [
  {
   "cell_type": "code",
   "execution_count": 1,
   "id": "7693d549",
   "metadata": {},
   "outputs": [],
   "source": [
    "import numpy as np\n",
    "import re"
   ]
  },
  {
   "cell_type": "code",
   "execution_count": 50,
   "id": "a3ee6dfc",
   "metadata": {},
   "outputs": [],
   "source": [
    "def getNodes(graph):\n",
    "    return np.union1d(list(graph.keys()),list(graph.values())).tolist()\n",
    "\n",
    "def getEdges(graph, isDirected):\n",
    "    edges = []\n",
    "    for item in graph.items():\n",
    "        for destination in item[1]:\n",
    "            if (not isDirected):\n",
    "                string1 = item[0] if item[0] < destination else destination\n",
    "                string2 = destination if item[0] < destination else item[0]\n",
    "            else:\n",
    "                string1 = item[0]\n",
    "                string2 = destination\n",
    "            edges.append(string1 + string2)\n",
    "    return np.unique(edges).tolist()"
   ]
  },
  {
   "cell_type": "code",
   "execution_count": 56,
   "id": "a42cb469",
   "metadata": {},
   "outputs": [],
   "source": [
    "graph0 = {\n",
    "    \"a\": [\"b\"]\n",
    "}\n",
    "#A---B"
   ]
  },
  {
   "cell_type": "code",
   "execution_count": 57,
   "id": "32d4fd77",
   "metadata": {},
   "outputs": [],
   "source": [
    "graph1 = {\n",
    "    \"a\": [\"b\"],\n",
    "    \"b\": [\"c\"]\n",
    "}\n",
    "#A----B----C"
   ]
  },
  {
   "cell_type": "code",
   "execution_count": 58,
   "id": "da23c17d",
   "metadata": {},
   "outputs": [],
   "source": [
    "graph2 = {\n",
    "    \"a\": [\"b\", \"c\", \"d\"],\n",
    "    \"b\": [\"a\"],\n",
    "    \"c\": [\"a\"],\n",
    "    \"d\": [\"a\"]\n",
    "}\n",
    "\n",
    "#       C          D\n",
    "#        \\        /\n",
    "#         \\      /\n",
    "#          \\    /\n",
    "#           \\  /\n",
    "# B----------A"
   ]
  },
  {
   "cell_type": "code",
   "execution_count": 59,
   "id": "2a902e23",
   "metadata": {},
   "outputs": [],
   "source": [
    "graph3 = {\n",
    "    \"a\": \"b\",\n",
    "    \"b\": \"c\",\n",
    "    \"c\": \"d\"\n",
    "}\n",
    "# A--B--C--D"
   ]
  },
  {
   "cell_type": "code",
   "execution_count": 60,
   "id": "73670c86",
   "metadata": {},
   "outputs": [],
   "source": [
    "graph4 = {\n",
    "    \"a\": \"b\",\n",
    "    \"b\": \"c\",\n",
    "    \"c\": \"d\",\n",
    "    \"d\": \"e\"\n",
    "}\n",
    "# A--B--C--D--E"
   ]
  },
  {
   "cell_type": "code",
   "execution_count": 61,
   "id": "51db4424",
   "metadata": {},
   "outputs": [],
   "source": [
    "graph5 = {\n",
    "    \"a\": [\"b\", \"c\", \"d\", \"e\"]\n",
    "}\n",
    "#       C          D\n",
    "#        \\        /\n",
    "#         \\      /\n",
    "#          \\    /\n",
    "#           \\  /\n",
    "# B----------A-------------E"
   ]
  },
  {
   "cell_type": "code",
   "execution_count": 71,
   "id": "0d6ffec2",
   "metadata": {},
   "outputs": [],
   "source": [
    "class Player:\n",
    "    def __init__(self, types, shorthand, roundNum):\n",
    "        self.types = types\n",
    "        self.shorthand = shorthand\n",
    "        self.roundNum = roundNum\n",
    "    def self_introduce(self):\n",
    "        return f'Player {self.shorthand} of type {self.types}'\n",
    "\n",
    "def buildPlayers(nodes, edges, covers):\n",
    "    # objectives\n",
    "    objectivePlayer = Player('objective', 'o')\n",
    "    # nodes\n",
    "    n = len(nodes)\n",
    "    vertexplayers = [Player('vertex', 'v0')]\n",
    "    for i in range(1, n+1):\n",
    "        vertexplayers.append(Player('vertex', f'v{i}'))\n",
    "    # edges\n",
    "    m = len(edges)\n",
    "    edgeplayers = []\n",
    "    for j in range(0,m):\n",
    "        edgeplayers.append(Player('edge', f'e{j}'))\n",
    "    # filler    \n",
    "    k = len(covers)\n",
    "    roundLimit1 = int(np.ceil(np.log(n-k)))\n",
    "    fillerplayers = []\n",
    "    for r in range(1, roundLimit1+1):\n",
    "        for i in range(1,k+1):\n",
    "            for j in vertexplayers:\n",
    "                fillerplayers.append(Player('filler', f'f^{r}_{j.shorthand}#{i}'))\n",
    "    roundLimit2 = int(np.ceil(np.log(n-k)) + np.ceil(np.log(m)))\n",
    "    for r in range(roundLimit1+1, roundLimit2+1):\n",
    "        for i in range(1,k+1):\n",
    "            for j in edgeplayers:\n",
    "                fillerplayers.append(Player('filler', f'f^{r}_{j.shorthand}#{i}'))\n",
    "    # holder\n",
    "    holderplayers = []\n",
    "    for ei in edgeplayers:\n",
    "        for l in range(0, 2**roundLimit1 - 1):\n",
    "            holderplayers.append(Player('holder', f'h^{l}_{ei.shorthand}'))\n",
    "            \n",
    "    for fi in range(0, len(fillerplayers)):\n",
    "        p = re.compile('f\\^(\\d)\\_')\n",
    "        m = p.match(fillerplayers[fi].shorthand)\n",
    "        fillerplayerR = int(m.group(1))\n",
    "        for l in range(1, 2**fillerplayerR):\n",
    "            holderplayers.append(Player('holder', f'h^{l}_{fillerplayers[fi].shorthand}'))\n",
    "    kfiller = 2**(roundLimit2 + int(np.ceil(np.log2(k+1)))+1) - 1\n",
    "    for l in range(0, kfiller):\n",
    "        holderplayers.append(Player('holder', f'h^{l}_o'))\n",
    "    return {\n",
    "        'objectivePlayer': objectivePlayer,\n",
    "        'vertexplayers': vertexplayers, \n",
    "        'edgeplayers': edgeplayers,\n",
    "        'fillerplayers': fillerplayers,\n",
    "        'holderplayers': holderplayers\n",
    "    }"
   ]
  },
  {
   "cell_type": "code",
   "execution_count": 74,
   "id": "97aff014",
   "metadata": {
    "scrolled": true
   },
   "outputs": [
    {
     "data": {
      "text/plain": [
       "40"
      ]
     },
     "execution_count": 74,
     "metadata": {},
     "output_type": "execute_result"
    }
   ],
   "source": [
    "chosenGraph = graph1\n",
    "nodes = getNodes(chosenGraph)\n",
    "edges = getEdges(chosenGraph, False)\n",
    "covers = [\"b\"]\n",
    "players = buildPlayers(nodes, edges, covers)\n",
    "np.sum([\n",
    "    1,\n",
    "    len(players['vertexplayers']), \n",
    "    len(players['edgeplayers']),\n",
    "    len(players['fillerplayers']),\n",
    "    len(players['holderplayers'])\n",
    "])"
   ]
  },
  {
   "cell_type": "code",
   "execution_count": 76,
   "id": "e026df51",
   "metadata": {},
   "outputs": [
    {
     "name": "stdout",
     "output_type": "stream",
     "text": [
      "Player f^1_v0#1 of type filler\n",
      "Player f^1_v1#1 of type filler\n",
      "Player f^1_v2#1 of type filler\n",
      "Player f^1_v3#1 of type filler\n",
      "Player f^2_e0#1 of type filler\n",
      "Player f^2_e1#1 of type filler\n"
     ]
    }
   ],
   "source": [
    "for p in players['fillerplayers']:\n",
    "    print(p.self_introduce())"
   ]
  },
  {
   "cell_type": "code",
   "execution_count": null,
   "id": "448c7f34",
   "metadata": {},
   "outputs": [],
   "source": []
  }
 ],
 "metadata": {
  "kernelspec": {
   "display_name": "Python 3",
   "language": "python",
   "name": "python3"
  },
  "language_info": {
   "codemirror_mode": {
    "name": "ipython",
    "version": 3
   },
   "file_extension": ".py",
   "mimetype": "text/x-python",
   "name": "python",
   "nbconvert_exporter": "python",
   "pygments_lexer": "ipython3",
   "version": "3.8.8"
  }
 },
 "nbformat": 4,
 "nbformat_minor": 5
}
