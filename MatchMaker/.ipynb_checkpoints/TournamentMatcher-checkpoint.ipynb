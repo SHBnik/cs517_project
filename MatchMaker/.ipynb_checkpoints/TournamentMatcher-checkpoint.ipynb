{
 "cells": [
  {
   "cell_type": "code",
   "execution_count": 7,
   "id": "2f00d966",
   "metadata": {},
   "outputs": [],
   "source": [
    "import numpy as np"
   ]
  },
  {
   "cell_type": "code",
   "execution_count": 5,
   "id": "5dff2c7c",
   "metadata": {},
   "outputs": [],
   "source": [
    "graph = {\n",
    "    \"a\": \"b\",\n",
    "    \"b\": \"c\",\n",
    "    \"c\": \"d\",\n",
    "    \"d\": \"e\"\n",
    "}\n",
    "\n",
    "nodes = [\"a\", \"b\", \"c\", \"d\", \"e\"]\n",
    "edges = [\"ab\", \"bc\", \"cd\", \"de\"]\n",
    "covers = [\"b\", \"d\"]\n",
    "# A--B--C--D--E"
   ]
  },
  {
   "cell_type": "code",
   "execution_count": 6,
   "id": "e3d97dff",
   "metadata": {},
   "outputs": [],
   "source": [
    "graph = {\n",
    "    \"a\": [\"b\", \"c\", \"d\", \"e\"]\n",
    "}\n",
    "nodes = [\"a\", \"b\", \"c\", \"d\", \"e\"]\n",
    "edges = [\"ab\", \"ac\", \"ad\", \"ae\"]\n",
    "covers = [\"a\"]\n",
    "\n",
    "#       C          D\n",
    "#        \\        /\n",
    "#         \\      /\n",
    "#          \\    /\n",
    "#           \\  /\n",
    "# B----------A-------------E"
   ]
  },
  {
   "cell_type": "code",
   "execution_count": 47,
   "id": "232b5990",
   "metadata": {},
   "outputs": [],
   "source": [
    "class Player:\n",
    "    def __init__(self, types, shorthand):\n",
    "        self.types = types\n",
    "        self.shorthand = shorthand\n",
    "\n",
    "    def self_introduce(self):\n",
    "        return f'Player {self.shorthand} of type {self.types}'\n",
    "\n",
    "def buildPlayers(nodes, edges, covers):\n",
    "    objectivePlayer = Player('objective', 'o')\n",
    "    n = len(nodes)\n",
    "    vertexplayers = [Player('vertex', 'v0')]\n",
    "    for i in range(1, n+1):\n",
    "        vertexplayers.append(Player('vertex', f'v{i}'))\n",
    "    \n",
    "    m = len(edges)\n",
    "    edgeplayers = []\n",
    "    for j in range(0,m):\n",
    "        edgeplayers.append(Player('edge', f'e{j}'))\n",
    "        \n",
    "    k = len(covers)\n",
    "    roundLimit1 = np.ceil(np.log2(n-k))\n",
    "    fillerplayers = []\n",
    "    for r in range(0, roundLimit1):\n",
    "        for i in range(1,k+1):\n",
    "            fillerplayers.append(Player('filler', f'f^{r}_v{i}'))\n",
    "    print(roundLimit1)\n",
    "    return {\n",
    "        'vertexplayers': vertexplayers, \n",
    "        'edgeplayers': edgeplayers,\n",
    "        'fillerplayers': fillerplayers\n",
    "    }"
   ]
  },
  {
   "cell_type": "code",
   "execution_count": 41,
   "id": "59a044f0",
   "metadata": {},
   "outputs": [
    {
     "name": "stdout",
     "output_type": "stream",
     "text": [
      "Player e0 of type edge\n",
      "Player e1 of type edge\n",
      "Player e2 of type edge\n",
      "Player e3 of type edge\n"
     ]
    }
   ],
   "source": [
    "for p in buildPlayers(nodes, edges, covers)['edgeplayers']:\n",
    "    print(p.self_introduce())"
   ]
  },
  {
   "cell_type": "code",
   "execution_count": 46,
   "id": "ccd39bfe",
   "metadata": {},
   "outputs": [
    {
     "name": "stdout",
     "output_type": "stream",
     "text": [
      "2.0\n"
     ]
    },
    {
     "data": {
      "text/plain": [
       "{'vertexplayers': [<__main__.Player at 0x217ff55a070>,\n",
       "  <__main__.Player at 0x217ff55ac70>,\n",
       "  <__main__.Player at 0x217ff55af10>,\n",
       "  <__main__.Player at 0x217ff6218e0>,\n",
       "  <__main__.Player at 0x217ff6217c0>,\n",
       "  <__main__.Player at 0x217ff621100>],\n",
       " 'edgeplayers': [<__main__.Player at 0x217ff55aeb0>,\n",
       "  <__main__.Player at 0x217ff621580>,\n",
       "  <__main__.Player at 0x217ff621130>,\n",
       "  <__main__.Player at 0x217ff621520>]}"
      ]
     },
     "execution_count": 46,
     "metadata": {},
     "output_type": "execute_result"
    }
   ],
   "source": [
    "buildPlayers(nodes, edges, covers)"
   ]
  },
  {
   "cell_type": "code",
   "execution_count": 19,
   "id": "3a1cf5cc",
   "metadata": {},
   "outputs": [
    {
     "name": "stdout",
     "output_type": "stream",
     "text": [
      "1\n",
      "2\n",
      "3\n",
      "4\n",
      "5\n"
     ]
    }
   ],
   "source": [
    "for i in range(1, 6):\n",
    "    print(i)"
   ]
  },
  {
   "cell_type": "code",
   "execution_count": null,
   "id": "26c35c66",
   "metadata": {},
   "outputs": [],
   "source": []
  }
 ],
 "metadata": {
  "kernelspec": {
   "display_name": "Python 3",
   "language": "python",
   "name": "python3"
  },
  "language_info": {
   "codemirror_mode": {
    "name": "ipython",
    "version": 3
   },
   "file_extension": ".py",
   "mimetype": "text/x-python",
   "name": "python",
   "nbconvert_exporter": "python",
   "pygments_lexer": "ipython3",
   "version": "3.8.8"
  }
 },
 "nbformat": 4,
 "nbformat_minor": 5
}
