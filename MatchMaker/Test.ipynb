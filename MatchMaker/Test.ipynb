{
 "cells": [
  {
   "cell_type": "code",
   "execution_count": 1,
   "id": "c82b9cb4",
   "metadata": {},
   "outputs": [],
   "source": [
    "from tournament import bracketGenerator\n",
    "import numpy as np"
   ]
  },
  {
   "cell_type": "code",
   "execution_count": 17,
   "id": "fa3bd595",
   "metadata": {},
   "outputs": [],
   "source": [
    "graph5 = {\n",
    "    \"a\": [\"b\", \"c\", \"d\", \"e\"],\n",
    "    \"d\": [\"e\"],\n",
    "    \"c\": [\"b\", \"e\"]\n",
    "}\n",
    "#       C           D\n",
    "#      / \\____    /  \\\n",
    "#     /   \\   \\__/    \\\n",
    "#    /     \\    /\\_____\\\n",
    "#   /       \\  /       \\\\\n",
    "# B----------A-----------E\n"
   ]
  },
  {
   "cell_type": "code",
   "execution_count": 29,
   "id": "62c1de8d",
   "metadata": {},
   "outputs": [
    {
     "name": "stdout",
     "output_type": "stream",
     "text": [
      "['a', 'b', 'c']\n",
      "[('a', 'b'), ('b', 'c')]\n",
      "[[['a', 'b'], [1, 1]], [['b', 'c'], [1, 1]]]\n",
      "['ab', 'bc']\n",
      "[1, 1]\n",
      "Version identifier: 22.1.0.0 | 2022-03-25 | 54982fbec\n",
      "CPXPARAM_Read_DataCheck                          1\n",
      "Found incumbent of value 3.000000 after 0.00 sec. (0.00 ticks)\n",
      "Tried aggregator 1 time.\n",
      "MIP Presolve eliminated 2 rows and 2 columns.\n",
      "All rows and columns eliminated.\n",
      "Presolve time = 0.00 sec. (0.00 ticks)\n",
      "\n",
      "Root node processing (before b&c):\n",
      "  Real time             =    0.00 sec. (0.00 ticks)\n",
      "Parallel b&c, 8 threads:\n",
      "  Real time             =    0.00 sec. (0.00 ticks)\n",
      "  Sync time (average)   =    0.00 sec.\n",
      "  Wait time (average)   =    0.00 sec.\n",
      "                          ------------\n",
      "Total (root+branch&cut) =    0.00 sec. (0.00 ticks)\n"
     ]
    }
   ],
   "source": [
    "graph1 = {\n",
    "    \"a\": [\"b\"],\n",
    "    \"b\": [\"c\"]\n",
    "}\n",
    "# A---------B-----------C\n",
    "test = bracketGenerator(graph1)"
   ]
  },
  {
   "cell_type": "code",
   "execution_count": 31,
   "id": "37d1d152",
   "metadata": {},
   "outputs": [
    {
     "name": "stdout",
     "output_type": "stream",
     "text": [
      "Player o for round 1 vs. Player h^0_o for round 1\n",
      "Player v-0 for round 1 vs. Player v-a for round 1\n",
      "Player f^1_v#1 for round 1 vs. Player v-b for round 1\n",
      "Player e-ab for round 1 vs. Player h^0_e-ab for round 1\n",
      "Player e-bc for round 1 vs. Player h^0_e-bc for round 1\n",
      "Player f^2_e#1 for round 2 vs. Player h^0_f^2_e#1 for round 2\n",
      "Player h^0_o_ammend for round 1 vs. Player h^1_o_ammend for round 1\n",
      "Player h^2_o_ammend for round 1 vs. Player h^3_o_ammend for round 1\n",
      "Player h^4_o for round 1 vs. Player h^10_o for round 1\n",
      "Player h^9_o for round 1 vs. Player h^6_o for round 1\n",
      "Player h^3_o for round 1 vs. Player h^11_o for round 1\n",
      "Player h^12_o for round 1 vs. Player h^4_o_ammend for round 1\n",
      "Player h^5_o for round 1 vs. Player h^2_o for round 1\n",
      "Player h^7_o for round 1 vs. Player h^14_o for round 1\n",
      "Player v-c for round 1 vs. Player h^8_o for round 1\n",
      "Player h^13_o for round 1 vs. Player h^1_o for round 1\n"
     ]
    }
   ],
   "source": [
    "for i in test['round1']:\n",
    "    print(f'{i[0].self_introduce()} vs. {i[1].self_introduce()}')"
   ]
  },
  {
   "cell_type": "code",
   "execution_count": 35,
   "id": "151915fb",
   "metadata": {},
   "outputs": [
    {
     "name": "stdout",
     "output_type": "stream",
     "text": [
      "Player h^2_o_ammend for round 1 vs. Player o for round 1\n"
     ]
    }
   ],
   "source": [
    "for i in test['round5']:\n",
    "    print(f'{i[0].self_introduce()} vs. {i[1].self_introduce()}')"
   ]
  },
  {
   "cell_type": "code",
   "execution_count": null,
   "id": "e47f7581",
   "metadata": {},
   "outputs": [],
   "source": []
  }
 ],
 "metadata": {
  "kernelspec": {
   "display_name": "Python 3",
   "language": "python",
   "name": "python3"
  },
  "language_info": {
   "codemirror_mode": {
    "name": "ipython",
    "version": 3
   },
   "file_extension": ".py",
   "mimetype": "text/x-python",
   "name": "python",
   "nbconvert_exporter": "python",
   "pygments_lexer": "ipython3",
   "version": "3.8.8"
  }
 },
 "nbformat": 4,
 "nbformat_minor": 5
}
