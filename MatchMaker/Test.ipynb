{
 "cells": [
  {
   "cell_type": "code",
   "execution_count": 1,
   "id": "c82b9cb4",
   "metadata": {},
   "outputs": [],
   "source": [
    "from tournament import bracketGenerator\n",
    "import numpy as np"
   ]
  },
  {
   "cell_type": "code",
   "execution_count": 2,
   "id": "fa3bd595",
   "metadata": {},
   "outputs": [],
   "source": [
    "graph5 = {\n",
    "    \"a\": [\"b\", \"c\", \"d\", \"e\"],\n",
    "    \"d\": [\"e\"],\n",
    "    \"c\": [\"b\", \"e\"]\n",
    "}\n",
    "#       C           D\n",
    "#      / \\____    /  \\\n",
    "#     /   \\   \\__/    \\\n",
    "#    /     \\    /\\_____\\\n",
    "#   /       \\  /       \\\\\n",
    "# B----------A-----------E\n"
   ]
  },
  {
   "cell_type": "code",
   "execution_count": 3,
   "id": "62c1de8d",
   "metadata": {},
   "outputs": [
    {
     "name": "stdout",
     "output_type": "stream",
     "text": [
      "['a', 'b', 'c', 'd', 'e']\n",
      "[('a', 'b'), ('a', 'c'), ('a', 'd'), ('a', 'e'), ('d', 'e'), ('b', 'c'), ('c', 'e')]\n",
      "[[['a', 'b'], [1, 1]], [['a', 'c'], [1, 1]], [['a', 'd'], [1, 1]], [['a', 'e'], [1, 1]], [['d', 'e'], [1, 1]], [['b', 'c'], [1, 1]], [['c', 'e'], [1, 1]]]\n",
      "['ab', 'ac', 'ad', 'ae', 'de', 'bc', 'ce']\n",
      "[1, 1, 1, 1, 1, 1, 1]\n",
      "Version identifier: 22.1.0.0 | 2022-03-25 | 54982fbec\n",
      "CPXPARAM_Read_DataCheck                          1\n",
      "Found incumbent of value 5.000000 after 0.00 sec. (0.00 ticks)\n",
      "Tried aggregator 1 time.\n",
      "MIP Presolve eliminated 4 rows and 0 columns.\n",
      "MIP Presolve modified 3 coefficients.\n",
      "Reduced MIP has 3 rows, 5 columns, and 9 nonzeros.\n",
      "Reduced MIP has 5 binaries, 0 generals, 0 SOSs, and 0 indicators.\n",
      "Presolve time = 0.00 sec. (0.01 ticks)\n",
      "Probing time = 0.00 sec. (0.00 ticks)\n",
      "Tried aggregator 1 time.\n",
      "Detecting symmetries...\n",
      "Reduced MIP has 3 rows, 5 columns, and 9 nonzeros.\n",
      "Reduced MIP has 5 binaries, 0 generals, 0 SOSs, and 0 indicators.\n",
      "Presolve time = 0.00 sec. (0.01 ticks)\n",
      "Probing time = 0.00 sec. (0.00 ticks)\n",
      "Clique table members: 5.\n",
      "MIP emphasis: balance optimality and feasibility.\n",
      "MIP search method: dynamic search.\n",
      "Parallel mode: deterministic, using up to 8 threads.\n",
      "Root relaxation solution time = 0.00 sec. (0.00 ticks)\n",
      "\n",
      "        Nodes                                         Cuts/\n",
      "   Node  Left     Objective  IInf  Best Integer    Best Bound    ItCnt     Gap\n",
      "\n",
      "*     0+    0                            5.0000        0.0000           100.00%\n",
      "*     0+    0                            3.0000        0.0000           100.00%\n",
      "      0     0        cutoff              3.0000        3.0000        4    0.00%\n",
      "      0     0        cutoff              3.0000        3.0000        4    0.00%\n",
      "Elapsed time = 0.02 sec. (0.04 ticks, tree = 0.01 MB, solutions = 2)\n",
      "\n",
      "Root node processing (before b&c):\n",
      "  Real time             =    0.02 sec. (0.04 ticks)\n",
      "Parallel b&c, 8 threads:\n",
      "  Real time             =    0.00 sec. (0.00 ticks)\n",
      "  Sync time (average)   =    0.00 sec.\n",
      "  Wait time (average)   =    0.00 sec.\n",
      "                          ------------\n",
      "Total (root+branch&cut) =    0.02 sec. (0.04 ticks)\n"
     ]
    }
   ],
   "source": [
    "test = bracketGenerator(graph5)"
   ]
  },
  {
   "cell_type": "code",
   "execution_count": 9,
   "id": "37d1d152",
   "metadata": {},
   "outputs": [
    {
     "name": "stdout",
     "output_type": "stream",
     "text": [
      "Player v-a for round 1 vs. Player e-ad for round 1\n",
      "Player v-e for round 1 vs. Player e-de for round 1\n",
      "Player v-b for round 1 vs. Player f^3_e#1 for round 3\n",
      "Player v-0 for round 1 vs. Player f^3_e#2 for round 3\n",
      "Player o for round 1 vs. Player h^17_o_ammend for round 1\n",
      "Player e-ad for round 1 vs. Player h^18_o_ammend for round 1\n",
      "Player h^48_o for round 1 vs. Player h^2_o_ammend for round 1\n",
      "Player h^35_o for round 1 vs. Player h^42_o for round 1\n",
      "Player h^16_o for round 1 vs. Player f^3_e#3 for round 3\n",
      "Player h^14_o_ammend for round 1 vs. Player h^10_o for round 1\n",
      "Player f^2_e#3 for round 2 vs. Player h^29_o for round 1\n",
      "Player h^16_o_ammend for round 1 vs. Player h^54_o for round 1\n",
      "Player h^22_o_ammend for round 1 vs. Player h^28_o for round 1\n",
      "Player h^11_o for round 1 vs. Player h^4_o_ammend for round 1\n",
      "Player h^23_o for round 1 vs. Player h^37_o for round 1\n",
      "Player f^2_e#2 for round 2 vs. Player h^38_o for round 1\n"
     ]
    }
   ],
   "source": [
    "for i in test['round3']:\n",
    "    print(f'{i[0].self_introduce()} vs. {i[1].self_introduce()}')"
   ]
  },
  {
   "cell_type": "code",
   "execution_count": null,
   "id": "151915fb",
   "metadata": {},
   "outputs": [],
   "source": []
  }
 ],
 "metadata": {
  "kernelspec": {
   "display_name": "Python 3",
   "language": "python",
   "name": "python3"
  },
  "language_info": {
   "codemirror_mode": {
    "name": "ipython",
    "version": 3
   },
   "file_extension": ".py",
   "mimetype": "text/x-python",
   "name": "python",
   "nbconvert_exporter": "python",
   "pygments_lexer": "ipython3",
   "version": "3.8.8"
  }
 },
 "nbformat": 4,
 "nbformat_minor": 5
}
