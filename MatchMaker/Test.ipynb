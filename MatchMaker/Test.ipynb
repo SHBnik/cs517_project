{
 "cells": [
  {
   "cell_type": "code",
   "execution_count": 1,
   "id": "c82b9cb4",
   "metadata": {},
   "outputs": [],
   "source": [
    "from tournament import bracketGenerator\n",
    "import numpy as np"
   ]
  },
  {
   "cell_type": "code",
   "execution_count": 17,
   "id": "fa3bd595",
   "metadata": {},
   "outputs": [],
   "source": [
    "graph5 = {\n",
    "    \"a\": [\"b\", \"c\", \"d\", \"e\"],\n",
    "    \"d\": [\"e\"],\n",
    "    \"c\": [\"b\", \"e\"]\n",
    "}\n",
    "#       C           D\n",
    "#      / \\____    /  \\\n",
    "#     /   \\   \\__/    \\\n",
    "#    /     \\    /\\_____\\\n",
    "#   /       \\  /       \\\\\n",
    "# B----------A-----------E\n"
   ]
  },
  {
   "cell_type": "code",
   "execution_count": 19,
   "id": "62c1de8d",
   "metadata": {},
   "outputs": [
    {
     "name": "stdout",
     "output_type": "stream",
     "text": [
      "['a', 'b', 'c']\n",
      "[('a', 'b'), ('b', 'c')]\n",
      "[[['a', 'b'], [1, 1]], [['b', 'c'], [1, 1]]]\n",
      "['ab', 'bc']\n",
      "[1, 1]\n",
      "Version identifier: 22.1.0.0 | 2022-03-25 | 54982fbec\n",
      "CPXPARAM_Read_DataCheck                          1\n",
      "Found incumbent of value 3.000000 after 0.00 sec. (0.00 ticks)\n",
      "Tried aggregator 1 time.\n",
      "MIP Presolve eliminated 2 rows and 2 columns.\n",
      "All rows and columns eliminated.\n",
      "Presolve time = 0.00 sec. (0.00 ticks)\n",
      "\n",
      "Root node processing (before b&c):\n",
      "  Real time             =    0.00 sec. (0.00 ticks)\n",
      "Parallel b&c, 8 threads:\n",
      "  Real time             =    0.00 sec. (0.00 ticks)\n",
      "  Sync time (average)   =    0.00 sec.\n",
      "  Wait time (average)   =    0.00 sec.\n",
      "                          ------------\n",
      "Total (root+branch&cut) =    0.00 sec. (0.00 ticks)\n"
     ]
    }
   ],
   "source": [
    "graph1 = {\n",
    "    \"a\": [\"b\"],\n",
    "    \"b\": [\"c\"]\n",
    "}\n",
    "# A---------B-----------C\n",
    "test = bracketGenerator(graph1)"
   ]
  },
  {
   "cell_type": "code",
   "execution_count": 27,
   "id": "37d1d152",
   "metadata": {},
   "outputs": [
    {
     "name": "stdout",
     "output_type": "stream",
     "text": [
      "Player h^1_o for round 1 vs. Player o for round 1\n"
     ]
    }
   ],
   "source": [
    "for i in test['round5']:\n",
    "    print(f'{i[0].self_introduce()} vs. {i[1].self_introduce()}')"
   ]
  },
  {
   "cell_type": "code",
   "execution_count": 28,
   "id": "151915fb",
   "metadata": {},
   "outputs": [
    {
     "data": {
      "text/plain": [
       "{'round1': [(<tournament.Player at 0x1d7fb171fa0>,\n",
       "   <tournament.Player at 0x1d7fb171a60>),\n",
       "  (<tournament.Player at 0x1d7fb171f40>, <tournament.Player at 0x1d7fb171f10>),\n",
       "  (<tournament.Player at 0x1d7fb171ee0>, <tournament.Player at 0x1d7fb171e20>),\n",
       "  (<tournament.Player at 0x1d7fb171d60>, <tournament.Player at 0x1d7fb171a90>),\n",
       "  (<tournament.Player at 0x1d7fb171b50>, <tournament.Player at 0x1d7fb171c70>),\n",
       "  (<tournament.Player at 0x1d7fb171ca0>, <tournament.Player at 0x1d7fb171a30>),\n",
       "  (<tournament.Player at 0x1d7fa0c1bb0>, <tournament.Player at 0x1d7fa0c1e80>),\n",
       "  (<tournament.Player at 0x1d7fa0c1d30>, <tournament.Player at 0x1d7fa0c1f70>),\n",
       "  (<tournament.Player at 0x1d7fb171dc0>, <tournament.Player at 0x1d7fb171b20>),\n",
       "  (<tournament.Player at 0x1d7fb171c10>, <tournament.Player at 0x1d7fa0c1ca0>),\n",
       "  (<tournament.Player at 0x1d7fa0c1eb0>, <tournament.Player at 0x1d7f99c2490>),\n",
       "  (<tournament.Player at 0x1d7fa0c1e20>, <tournament.Player at 0x1d7fb16e0d0>),\n",
       "  (<tournament.Player at 0x1d7f99c2760>, <tournament.Player at 0x1d7f99c2640>),\n",
       "  (<tournament.Player at 0x1d7fb171ac0>, <tournament.Player at 0x1d7fa0c1c70>),\n",
       "  (<tournament.Player at 0x1d7fb1719a0>, <tournament.Player at 0x1d7fa0c1e50>),\n",
       "  (<tournament.Player at 0x1d7f99c81f0>,\n",
       "   <tournament.Player at 0x1d7fb171be0>)],\n",
       " 'round2': [(<tournament.Player at 0x1d7fb171e20>,\n",
       "   <tournament.Player at 0x1d7fb171d60>),\n",
       "  (<tournament.Player at 0x1d7fb171f40>, <tournament.Player at 0x1d7fb171ca0>),\n",
       "  (<tournament.Player at 0x1d7fb171fa0>, <tournament.Player at 0x1d7fa0c1e80>),\n",
       "  (<tournament.Player at 0x1d7fb171be0>, <tournament.Player at 0x1d7fa0c1c70>),\n",
       "  (<tournament.Player at 0x1d7fb1719a0>, <tournament.Player at 0x1d7fb171c10>),\n",
       "  (<tournament.Player at 0x1d7fb16e0d0>, <tournament.Player at 0x1d7fb171b50>),\n",
       "  (<tournament.Player at 0x1d7fa0c1f70>, <tournament.Player at 0x1d7fb171b20>),\n",
       "  (<tournament.Player at 0x1d7fa0c1eb0>,\n",
       "   <tournament.Player at 0x1d7f99c2760>)],\n",
       " 'round3': [(<tournament.Player at 0x1d7fb171e20>,\n",
       "   <tournament.Player at 0x1d7fb171b50>),\n",
       "  (<tournament.Player at 0x1d7fb171fa0>, <tournament.Player at 0x1d7fb171be0>),\n",
       "  (<tournament.Player at 0x1d7fb1719a0>, <tournament.Player at 0x1d7fb171f40>),\n",
       "  (<tournament.Player at 0x1d7fa0c1eb0>,\n",
       "   <tournament.Player at 0x1d7fa0c1f70>)],\n",
       " 'round4': [(<tournament.Player at 0x1d7fb1719a0>,\n",
       "   <tournament.Player at 0x1d7fb171e20>),\n",
       "  (<tournament.Player at 0x1d7fb171fa0>,\n",
       "   <tournament.Player at 0x1d7fa0c1eb0>)],\n",
       " 'round5': [(<tournament.Player at 0x1d7fb1719a0>,\n",
       "   <tournament.Player at 0x1d7fb171fa0>)]}"
      ]
     },
     "execution_count": 28,
     "metadata": {},
     "output_type": "execute_result"
    }
   ],
   "source": [
    "test"
   ]
  },
  {
   "cell_type": "code",
   "execution_count": null,
   "id": "ca96740c",
   "metadata": {},
   "outputs": [],
   "source": []
  }
 ],
 "metadata": {
  "kernelspec": {
   "display_name": "Python 3",
   "language": "python",
   "name": "python3"
  },
  "language_info": {
   "codemirror_mode": {
    "name": "ipython",
    "version": 3
   },
   "file_extension": ".py",
   "mimetype": "text/x-python",
   "name": "python",
   "nbconvert_exporter": "python",
   "pygments_lexer": "ipython3",
   "version": "3.8.8"
  }
 },
 "nbformat": 4,
 "nbformat_minor": 5
}
