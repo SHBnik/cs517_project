{
 "cells": [
  {
   "cell_type": "code",
   "execution_count": 89,
   "id": "7693d549",
   "metadata": {},
   "outputs": [],
   "source": [
    "import numpy as np\n",
    "import re"
   ]
  },
  {
   "cell_type": "code",
   "execution_count": 90,
   "id": "036fa958",
   "metadata": {},
   "outputs": [],
   "source": [
    "def getNodes(graph):\n",
    "    nodes = []\n",
    "    for n in graph.keys():\n",
    "        nodes.append(n)\n",
    "    for n2 in graph.values():\n",
    "        if type(n2) == \"string\":\n",
    "            nodes.append(n2)\n",
    "        else:\n",
    "            nodes += n2\n",
    "    return np.unique(nodes).tolist()\n",
    "    \n",
    "\n",
    "def getEdges(graph, isDirected):\n",
    "    edges = []\n",
    "    for item in graph.items():\n",
    "        for destination in item[1]:\n",
    "            if (not isDirected):\n",
    "                string1 = item[0] if item[0] < destination else destination\n",
    "                string2 = destination if item[0] < destination else item[0]\n",
    "            else:\n",
    "                string1 = item[0]\n",
    "                string2 = destination\n",
    "            edges.append(string1 + string2)\n",
    "    return np.unique(edges).tolist()"
   ]
  },
  {
   "cell_type": "code",
   "execution_count": 91,
   "id": "a42cb469",
   "metadata": {},
   "outputs": [],
   "source": [
    "graph0 = {\n",
    "    \"a\": [\"b\"]\n",
    "}\n",
    "#A---B\n",
    "\n",
    "graph1 = {\n",
    "    \"a\": [\"b\"],\n",
    "    \"b\": [\"c\"]\n",
    "}\n",
    "#A----B----C\n",
    "\n",
    "graph2 = {\n",
    "    \"a\": [\"b\", \"c\", \"d\"],\n",
    "    \"b\": [\"a\"],\n",
    "    \"c\": [\"a\"],\n",
    "    \"d\": [\"a\"]\n",
    "}\n",
    "\n",
    "#       C          D\n",
    "#        \\        /\n",
    "#         \\      /\n",
    "#          \\    /\n",
    "#           \\  /\n",
    "# B----------A\n",
    "\n",
    "graph3 = {\n",
    "    \"a\": \"b\",\n",
    "    \"b\": \"c\",\n",
    "    \"c\": \"d\"\n",
    "}\n",
    "# A--B--C--D\n",
    "\n",
    "graph4 = {\n",
    "    \"a\": \"b\",\n",
    "    \"b\": \"c\",\n",
    "    \"c\": \"d\",\n",
    "    \"d\": \"e\"\n",
    "}\n",
    "# A--B--C--D--E\n",
    "\n",
    "graph5 = {\n",
    "    \"a\": [\"b\", \"c\", \"d\", \"e\"]\n",
    "}\n",
    "#       C          D\n",
    "#        \\        /\n",
    "#         \\      /\n",
    "#          \\    /\n",
    "#           \\  /\n",
    "# B----------A-------------E"
   ]
  },
  {
   "cell_type": "code",
   "execution_count": 92,
   "id": "0d6ffec2",
   "metadata": {},
   "outputs": [],
   "source": [
    "class Player:\n",
    "    def __init__(self, types, shorthand, roundNum):\n",
    "        self.types = types\n",
    "        self.shorthand = shorthand\n",
    "        self.roundNum = roundNum\n",
    "    def self_introduce(self):\n",
    "        return f'Player {self.shorthand} of type {self.types} for round {self.roundNum}'\n",
    "\n",
    "def buildPlayers(nodes, edges, covers):\n",
    "    # objectives\n",
    "    objectiveplayer = [Player('objective', 'o', 1)]\n",
    "    # nodes\n",
    "    n = len(nodes)\n",
    "    vertexplayers = [Player('vertex', 'v0', 1)]\n",
    "    for i in range(1, n+1):\n",
    "        vertexplayers.append(Player('vertex', f'v{i}', 1))\n",
    "    # edges\n",
    "    m = len(edges)\n",
    "    edgeplayers = []\n",
    "    for j in range(0,m):\n",
    "        edgeplayers.append(Player('edge', f'e{j}', 1))\n",
    "    # filler    \n",
    "    k = len(covers)\n",
    "    roundLimit1 = int(np.ceil(np.log(n-k)))\n",
    "    fillerplayers = []\n",
    "    for r in range(1, roundLimit1+1):\n",
    "        for i in range(1,k+1):\n",
    "            #for j in vertexplayers:\n",
    "            fillerplayers.append(Player('filler', f'f^{r}_v#{i}', r))\n",
    "    roundLimit2 = int(np.ceil(np.log(n-k)) + np.ceil(np.log(m)))\n",
    "    for r in range(roundLimit1+1, roundLimit2+1):\n",
    "        for i in range(1,k+1):\n",
    "            #for j in edgeplayers:\n",
    "            fillerplayers.append(Player('filler', f'f^{r}_e#{i}', r))\n",
    "    # holder\n",
    "    holderplayers = []\n",
    "    for ei in edgeplayers:\n",
    "        for l in range(0, 2**roundLimit1 - 1):\n",
    "            holderplayers.append(Player('holder', f'h^{l}_{ei.shorthand}', 1))\n",
    "            \n",
    "    for fi in fillerplayers:\n",
    "        fillerplayerR = fi.roundNum\n",
    "        for l in range(0, 2**fillerplayerR -1):\n",
    "            holderplayers.append(Player('holder', f'h^{l}_{fi.shorthand}', 1))\n",
    "    kfiller = 2**(roundLimit2 + int(np.ceil(np.log(k+1)))+1) - 1\n",
    "    for l in range(0, kfiller):\n",
    "        holderplayers.append(Player('holder', f'h^{l}_o', 1))\n",
    "    return {\n",
    "        'objectivePlayer': objectiveplayer,\n",
    "        'vertexPlayers': vertexplayers, \n",
    "        'edgePlayers': edgeplayers,\n",
    "        'fillerPlayers': fillerplayers,\n",
    "        'holderPlayers': holderplayers\n",
    "    }"
   ]
  },
  {
   "cell_type": "code",
   "execution_count": 93,
   "id": "97aff014",
   "metadata": {
    "scrolled": true
   },
   "outputs": [
    {
     "name": "stdout",
     "output_type": "stream",
     "text": [
      "Generated players: 30\n"
     ]
    }
   ],
   "source": [
    "chosenGraph = graph1\n",
    "nodes = getNodes(chosenGraph)\n",
    "edges = getEdges(chosenGraph, False)\n",
    "covers = [\"b\"]\n",
    "players = buildPlayers(nodes, edges, covers)\n",
    "\n",
    "print(f'Generated players: {playerNums}')\n",
    "\n",
    "#rounds of number of players\n",
    "def getFullPlayers(playerNums):\n",
    "    n = 0\n",
    "    stopFlag = False\n",
    "    while (not stopFlag):\n",
    "        if playerNums > 2**n:\n",
    "            n += 1\n",
    "        else:\n",
    "            stopFlag = True\n",
    "    return 2**n\n",
    "\n",
    "def fillPlayers(playersList):\n",
    "    playerNums = np.sum([\n",
    "        len(playersList['objectivePlayer']),\n",
    "        len(playersList['vertexPlayers']), \n",
    "        len(playersList['edgePlayers']),\n",
    "        len(playersList['fillerPlayers']),\n",
    "        len(playersList['holderPlayers'])\n",
    "    ])\n",
    "    if getFullPlayers(playerNums) > playerNums:\n",
    "        for i in range(0, getFullPlayers(playerNums) - playerNums):\n",
    "            players['holderPlayers'].append(Player('holder', f'h^{i}_ammend', 1))\n",
    "    return playersList"
   ]
  },
  {
   "cell_type": "code",
   "execution_count": 94,
   "id": "bc53c97d",
   "metadata": {},
   "outputs": [],
   "source": [
    "players =fillPlayers(players)"
   ]
  },
  {
   "cell_type": "code",
   "execution_count": 95,
   "id": "e026df51",
   "metadata": {},
   "outputs": [
    {
     "name": "stdout",
     "output_type": "stream",
     "text": [
      "Player o of type objective for round 1\n",
      "Player v0 of type vertex for round 1\n",
      "Player v1 of type vertex for round 1\n",
      "Player v2 of type vertex for round 1\n",
      "Player v3 of type vertex for round 1\n",
      "Player e0 of type edge for round 1\n",
      "Player e1 of type edge for round 1\n",
      "Player f^1_v#1 of type filler for round 1\n",
      "Player f^2_e#1 of type filler for round 2\n",
      "Player h^0_e0 of type holder for round 1\n",
      "Player h^0_e1 of type holder for round 1\n",
      "Player h^0_f^1_v#1 of type holder for round 1\n",
      "Player h^0_f^2_e#1 of type holder for round 1\n",
      "Player h^1_f^2_e#1 of type holder for round 1\n",
      "Player h^2_f^2_e#1 of type holder for round 1\n",
      "Player h^0_o of type holder for round 1\n",
      "Player h^1_o of type holder for round 1\n",
      "Player h^2_o of type holder for round 1\n",
      "Player h^3_o of type holder for round 1\n",
      "Player h^4_o of type holder for round 1\n",
      "Player h^5_o of type holder for round 1\n",
      "Player h^6_o of type holder for round 1\n",
      "Player h^7_o of type holder for round 1\n",
      "Player h^8_o of type holder for round 1\n",
      "Player h^9_o of type holder for round 1\n",
      "Player h^10_o of type holder for round 1\n",
      "Player h^11_o of type holder for round 1\n",
      "Player h^12_o of type holder for round 1\n",
      "Player h^13_o of type holder for round 1\n",
      "Player h^14_o of type holder for round 1\n",
      "Player h^0_ammend of type holder for round 1\n",
      "Player h^1_ammend of type holder for round 1\n"
     ]
    }
   ],
   "source": [
    "for ptype in players.values():\n",
    "    for p in ptype:\n",
    "        print(p.self_introduce())"
   ]
  },
  {
   "cell_type": "code",
   "execution_count": 107,
   "id": "c11d2a6a",
   "metadata": {},
   "outputs": [],
   "source": [
    "def matchingPhase1(playerList):\n",
    "    seeds = []\n",
    "    holderString = []\n",
    "    for h in playerList['holderPlayers']:\n",
    "        holderString.append(h.shorthand)\n",
    "    vertexString = []\n",
    "    for v in playerList['vertexPlayers']:\n",
    "        vertexString.append(v.shorthand)\n",
    "    edgeString = []\n",
    "    for e in playerList['edgePlayers']:\n",
    "        edgeString.append(e.shorthand)\n",
    "    fillerString = []\n",
    "    for f in playerList['fillerPlayers']:\n",
    "        fillerString.append(f.shorthand)\n",
    "    for edgePlayer in edgeString:\n",
    "        for holdPlayer in holderString:\n",
    "            if edgePlayer in holdPlayer:\n",
    "                seeds.append((edgePlayer, holdPlayer))\n",
    "    for fillerPlayer in fillerString:\n",
    "        for holdPlayer in holderString:\n",
    "            if fillerPlayer in holdPlayer:\n",
    "                seeds.append((fillerPlayer, holdPlayer))\n",
    "    return seeds"
   ]
  },
  {
   "cell_type": "code",
   "execution_count": 108,
   "id": "1f241952",
   "metadata": {},
   "outputs": [
    {
     "data": {
      "text/plain": [
       "[('e0', 'h^0_e0'),\n",
       " ('e1', 'h^0_e1'),\n",
       " ('f^1_v#1', 'h^0_f^1_v#1'),\n",
       " ('f^2_e#1', 'h^0_f^2_e#1'),\n",
       " ('f^2_e#1', 'h^1_f^2_e#1'),\n",
       " ('f^2_e#1', 'h^2_f^2_e#1')]"
      ]
     },
     "execution_count": 108,
     "metadata": {},
     "output_type": "execute_result"
    }
   ],
   "source": [
    "matchingPhase1(players)"
   ]
  },
  {
   "cell_type": "code",
   "execution_count": 104,
   "id": "ee9db386",
   "metadata": {},
   "outputs": [
    {
     "data": {
      "text/plain": [
       "False"
      ]
     },
     "execution_count": 104,
     "metadata": {},
     "output_type": "execute_result"
    }
   ],
   "source": [
    "\"a\" in \"bc\""
   ]
  },
  {
   "cell_type": "code",
   "execution_count": 4,
   "id": "80740865",
   "metadata": {},
   "outputs": [
    {
     "data": {
      "text/plain": [
       "0"
      ]
     },
     "execution_count": 4,
     "metadata": {},
     "output_type": "execute_result"
    }
   ],
   "source": [
    "# idea comes from this very very old paper\n",
    "# https://www.barton.edu/pdf/faculty-publications/bengtson-winning-probabilities-publication.pdf\n",
    "\n",
    "import numpy as np\n",
    "\n",
    "p = [[1, 0.434, 0.337, 0.298, 0.262, 0.277, 0.312, 0.485],\n",
    "[0.566, 1, 0.571, 0.503, 0.42, 0.456, 0.516, 0.546],\n",
    "[0.663, 0.429, 1, 0.432, 0.356, 0.389, 0.463, 0.424],\n",
    "[0.702, 0.497, 0.568, 1, 0.416, 0.454, 0.514, 0.492],\n",
    "[0.738, 0.58, 0.644, 0.584, 1, 0.592, 0.596, 0.576],\n",
    "[0.723, 0.544, 0.611, 0.546, 0.408, 1, 0.56, 0.538],\n",
    "[0.688, 0.484, 0.537, 0.486, 0.404, 0.44, 1, 0.478],\n",
    "[0.515, 0.454, 0.576, 0.508, 0.424, 0.462, 0.522, 1]]\n",
    "\n",
    "\n",
    "\n",
    "# bracket kingstone is making\n",
    "tournament = [[(0,1),(2,3),(4,5),(6,7)],#round 1 \n",
    "             [(0,2),(4,6)],#round 2\n",
    "             [(0,4)]]#round3\n",
    "\n",
    "#gives probability of winnig i agains j (philip func)\n",
    "def P(i,j):\n",
    "    return p[i][j]\n",
    " \n",
    "#just a function can go through braket and find the opponent\n",
    "def opponent(player_i,round):\n",
    "    for (i,j) in tournament[round-1]:\n",
    "        if i == player_i:\n",
    "            return j\n",
    "        elif j == player_i:\n",
    "            return i\n",
    "    return None\n",
    "\n",
    "#go to the refrence for this one\n",
    "def Win_rate(player_i,round):\n",
    "    if round == 0 : return 1\n",
    "    opp_player = opponent(player_i,round)\n",
    "    if opp_player == None: return 0\n",
    "    return Win_rate(player_i,round-1) * P(player_i,opp_player) * Win_rate(opp_player,round-1)\n",
    "\n",
    "Win_rate(2,3)"
   ]
  }
 ],
 "metadata": {
  "interpreter": {
   "hash": "369f2c481f4da34e4445cda3fffd2e751bd1c4d706f27375911949ba6bb62e1c"
  },
  "kernelspec": {
   "display_name": "Python 3.10.1 64-bit",
   "language": "python",
   "name": "python3"
  },
  "language_info": {
   "codemirror_mode": {
    "name": "ipython",
    "version": 3
   },
   "file_extension": ".py",
   "mimetype": "text/x-python",
   "name": "python",
   "nbconvert_exporter": "python",
   "pygments_lexer": "ipython3",
   "version": "3.10.1"
  }
 },
 "nbformat": 4,
 "nbformat_minor": 5
}
