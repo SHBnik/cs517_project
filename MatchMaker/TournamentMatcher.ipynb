{
 "cells": [
  {
   "cell_type": "code",
   "execution_count": 80,
   "id": "7693d549",
   "metadata": {},
   "outputs": [],
   "source": [
    "import numpy as np\n",
    "import re"
   ]
  },
  {
   "cell_type": "code",
   "execution_count": 114,
   "id": "a42cb469",
   "metadata": {},
   "outputs": [],
   "source": [
    "graph = {\n",
    "    \"a\": [\"b\"]\n",
    "}\n",
    "nodes = [\"a\", \"b\"]\n",
    "edges = [\"ab\"]\n",
    "covers = [\"a\"]"
   ]
  },
  {
   "cell_type": "code",
   "execution_count": 110,
   "id": "da23c17d",
   "metadata": {},
   "outputs": [],
   "source": [
    "graph = {\n",
    "    \"a\": [\"b\", \"c\", \"d\"]\n",
    "}\n",
    "nodes = [\"a\", \"b\", \"c\", \"d\"]\n",
    "edges = [\"ab\", \"ac\", \"ad\"]\n",
    "covers = [\"a\"]\n",
    "\n",
    "#       C          D\n",
    "#        \\        /\n",
    "#         \\      /\n",
    "#          \\    /\n",
    "#           \\  /\n",
    "# B----------A"
   ]
  },
  {
   "cell_type": "code",
   "execution_count": 112,
   "id": "2a902e23",
   "metadata": {},
   "outputs": [],
   "source": [
    "graph = {\n",
    "    \"a\": \"b\",\n",
    "    \"b\": \"c\",\n",
    "    \"c\": \"d\"\n",
    "}\n",
    "nodes = [\"a\", \"b\", \"c\", \"d\"]\n",
    "edges = [\"ab\", \"bc\", \"cd\"]\n",
    "covers = [\"b\", \"d\"]\n",
    "# A--B--C--D"
   ]
  },
  {
   "cell_type": "code",
   "execution_count": 56,
   "id": "73670c86",
   "metadata": {},
   "outputs": [],
   "source": [
    "graph = {\n",
    "    \"a\": \"b\",\n",
    "    \"b\": \"c\",\n",
    "    \"c\": \"d\",\n",
    "    \"d\": \"e\"\n",
    "}\n",
    "\n",
    "nodes = [\"a\", \"b\", \"c\", \"d\", \"e\"]\n",
    "edges = [\"ab\", \"bc\", \"cd\", \"de\"]\n",
    "covers = [\"b\", \"d\"]\n",
    "# A--B--C--D--E"
   ]
  },
  {
   "cell_type": "code",
   "execution_count": 98,
   "id": "51db4424",
   "metadata": {},
   "outputs": [],
   "source": [
    "graph = {\n",
    "    \"a\": [\"b\", \"c\", \"d\", \"e\"]\n",
    "}\n",
    "nodes = [\"a\", \"b\", \"c\", \"d\", \"e\"]\n",
    "edges = [\"ab\", \"ac\", \"ad\", \"ae\"]\n",
    "covers = [\"a\"]\n",
    "\n",
    "#       C          D\n",
    "#        \\        /\n",
    "#         \\      /\n",
    "#          \\    /\n",
    "#           \\  /\n",
    "# B----------A-------------E"
   ]
  },
  {
   "cell_type": "code",
   "execution_count": 133,
   "id": "0d6ffec2",
   "metadata": {},
   "outputs": [],
   "source": [
    "class Player:\n",
    "    def __init__(self, types, shorthand):\n",
    "        self.types = types\n",
    "        self.shorthand = shorthand\n",
    "\n",
    "    def self_introduce(self):\n",
    "        return f'Player {self.shorthand} of type {self.types}'\n",
    "\n",
    "def buildPlayers(nodes, edges, covers):\n",
    "    # objectives\n",
    "    objectivePlayer = Player('objective', 'o')\n",
    "    # nodes\n",
    "    n = len(nodes)\n",
    "    vertexplayers = [Player('vertex', 'v0')]\n",
    "    for i in range(1, n+1):\n",
    "        vertexplayers.append(Player('vertex', f'v{i}'))\n",
    "    # edges\n",
    "    m = len(edges)\n",
    "    edgeplayers = []\n",
    "    for j in range(0,m):\n",
    "        edgeplayers.append(Player('edge', f'e{j}'))\n",
    "    # filler    \n",
    "    k = len(covers)\n",
    "    roundLimit1 = int(np.ceil(np.log(n-k)))\n",
    "    print(roundLimit1)\n",
    "    fillerplayers = []\n",
    "    for r in range(1, roundLimit1+1):\n",
    "        for i in range(1,k+1):\n",
    "            fillerplayers.append(Player('filler', f'f^{r}_v{i}'))\n",
    "    \n",
    "    roundLimit2 = int(np.ceil(np.log(n-k)) + np.ceil(np.log(m)))\n",
    "    for r in range(roundLimit1+1, roundLimit2+1):\n",
    "        for i in range(1,k+1):\n",
    "            fillerplayers.append(Player('filler', f'f^{r}_e{i}'))\n",
    "    # holder\n",
    "    holderplayers = []\n",
    "    for ei in range(0,len(edgeplayers)):\n",
    "        for l in range(0, 2**roundLimit1 - 1):\n",
    "            holderplayers.append(Player('holder', f'h^{l}_e{ei}'))\n",
    "            \n",
    "    for fi in range(0, len(fillerplayers)):\n",
    "        p = re.compile('f\\^(\\d)\\_')\n",
    "        m = p.match(fillerplayers[fi].shorthand)\n",
    "        fillerplayerR = int(m.group(1))\n",
    "        for l in range(1, 2**fillerplayerR):\n",
    "            holderplayers.append(Player('holder', f'h^{l}_{fillerplayers[fi].shorthand}'))\n",
    "    kfiller = 2**(roundLimit2 + int(np.ceil(np.log2(k+1)))+1) - 1\n",
    "    for l in range(0, kfiller):\n",
    "        holderplayers.append(Player('holder', f'h^{l}_o'))\n",
    "    return {\n",
    "        'objectivePlayer': objectivePlayer,\n",
    "        'vertexplayers': vertexplayers, \n",
    "        'edgeplayers': edgeplayers,\n",
    "        'fillerplayers': fillerplayers,\n",
    "        'holderplayers': holderplayers\n",
    "    }"
   ]
  },
  {
   "cell_type": "code",
   "execution_count": 135,
   "id": "97aff014",
   "metadata": {
    "scrolled": true
   },
   "outputs": [
    {
     "name": "stdout",
     "output_type": "stream",
     "text": [
      "0\n"
     ]
    },
    {
     "data": {
      "text/plain": [
       "8"
      ]
     },
     "execution_count": 135,
     "metadata": {},
     "output_type": "execute_result"
    }
   ],
   "source": [
    "players = buildPlayers(nodes, edges, covers)\n",
    "np.sum([\n",
    "    1,\n",
    "    len(players['vertexplayers']), \n",
    "    len(players['edgeplayers']),\n",
    "    len(players['fillerplayers']),\n",
    "    len(players['holderplayers'])\n",
    "])"
   ]
  },
  {
   "cell_type": "code",
   "execution_count": 132,
   "id": "e026df51",
   "metadata": {},
   "outputs": [
    {
     "data": {
      "text/plain": [
       "{'objectivePlayer': <__main__.Player at 0x217ff621c10>,\n",
       " 'vertexplayers': [<__main__.Player at 0x217ff621ac0>,\n",
       "  <__main__.Player at 0x217ff621640>,\n",
       "  <__main__.Player at 0x217ff621940>],\n",
       " 'edgeplayers': [<__main__.Player at 0x217ff621d90>],\n",
       " 'fillerplayers': [],\n",
       " 'holderplayers': [<__main__.Player at 0x217ff621670>,\n",
       "  <__main__.Player at 0x217ff621b80>,\n",
       "  <__main__.Player at 0x217ff55af40>]}"
      ]
     },
     "execution_count": 132,
     "metadata": {},
     "output_type": "execute_result"
    }
   ],
   "source": [
    "players"
   ]
  },
  {
   "cell_type": "code",
   "execution_count": null,
   "id": "448c7f34",
   "metadata": {},
   "outputs": [],
   "source": []
  }
 ],
 "metadata": {
  "kernelspec": {
   "display_name": "Python 3",
   "language": "python",
   "name": "python3"
  },
  "language_info": {
   "codemirror_mode": {
    "name": "ipython",
    "version": 3
   },
   "file_extension": ".py",
   "mimetype": "text/x-python",
   "name": "python",
   "nbconvert_exporter": "python",
   "pygments_lexer": "ipython3",
   "version": "3.8.8"
  }
 },
 "nbformat": 4,
 "nbformat_minor": 5
}
