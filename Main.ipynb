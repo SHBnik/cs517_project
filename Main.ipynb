{
 "cells": [
  {
   "cell_type": "markdown",
   "id": "a4c3ed6b",
   "metadata": {},
   "source": [
    "## Theory:\n",
    "\n",
    "We can generate a bracket using an abitrary graph that can support of to 2^n players"
   ]
  },
  {
   "cell_type": "code",
   "execution_count": null,
   "id": "6bed64ff",
   "metadata": {},
   "outputs": [],
   "source": [
    "from tournament import bracketGenerator\n",
    "from \n",
    "#generate a graph with user input number of edges and vertex\n",
    "\n",
    "#push this graph to the bracket generator\n",
    "\n",
    "#print the bracket for the user to see"
   ]
  },
  {
   "cell_type": "markdown",
   "id": "adf7e529",
   "metadata": {},
   "source": [
    "## Application:\n",
    "\n",
    "Using generated MLB data from 2019-2021, we can generate up to 32 players and apply some conditions on their win rate. Then we can generate a bracket that benefit a player with one condition:\n",
    "\n",
    "1. Said player have to win at least n match in an 2^n SE format\n",
    "2. idealize version of winrate (1, 0.5, 0)"
   ]
  },
  {
   "cell_type": "code",
   "execution_count": null,
   "id": "6b9ced92",
   "metadata": {},
   "outputs": [],
   "source": [
    "graph1 = {\n",
    "    \"a\": [\"b\"],\n",
    "    \"b\": [\"c\"]\n",
    "}\n",
    "# A---------B-----------C\n",
    "test = bracketGenerator(graph1)"
   ]
  }
 ],
 "metadata": {
  "kernelspec": {
   "display_name": "Python 3",
   "language": "python",
   "name": "python3"
  },
  "language_info": {
   "codemirror_mode": {
    "name": "ipython",
    "version": 3
   },
   "file_extension": ".py",
   "mimetype": "text/x-python",
   "name": "python",
   "nbconvert_exporter": "python",
   "pygments_lexer": "ipython3",
   "version": "3.8.8"
  }
 },
 "nbformat": 4,
 "nbformat_minor": 5
}
