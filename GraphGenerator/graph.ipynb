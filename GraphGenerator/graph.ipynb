{
 "cells": [
  {
   "cell_type": "code",
   "execution_count": 14,
   "metadata": {
    "id": "I-X9dMfYYmsH"
   },
   "outputs": [],
   "source": [
    "import numpy as np\n",
    "import matplotlib.pyplot as plt\n",
    "import networkx as nx"
   ]
  },
  {
   "cell_type": "code",
   "execution_count": 15,
   "metadata": {
    "id": "pfYBY0gklkp_"
   },
   "outputs": [
    {
     "name": "stdout",
     "output_type": "stream",
     "text": [
      "."
     ]
    },
    {
     "data": {
      "image/png": "[encoded data removed]",
      "text/plain": [
       "<Figure size 1008x1008 with 1 Axes>"
      ]
     },
     "metadata": {},
     "output_type": "display_data"
    }
   ],
   "source": [
    "def plot_graphs(graphs, figsize=14, dotsize=20):\n",
    "    \"\"\"Utility to plot a lot of graphs from an array of graphs. \n",
    "    Each graphs is a list of edges; each edge is a tuple.\"\"\"\n",
    "    n = len(graphs)\n",
    "    fig = plt.figure(figsize=(figsize,figsize))\n",
    "    fig.patch.set_facecolor('white') # To make copying possible (no transparent background)\n",
    "    k = int(np.sqrt(n))\n",
    "    for i in range(n):\n",
    "        plt.subplot(k+1,k+1,i+1)\n",
    "        g = nx.Graph()\n",
    "        for e in graphs[i]:            \n",
    "            g.add_edge(e[0],e[1])\n",
    "        nx.draw_kamada_kawai(g, node_size=dotsize)\n",
    "        print('.', end='')\n",
    "\n",
    "plot_graphs([[(0, 2), (0, 4), (0, 6), (1, 4), (1, 5), (2, 3)]])"
   ]
  },
  {
   "cell_type": "code",
   "execution_count": 16,
   "metadata": {
    "colab": {
     "base_uri": "https://localhost:8080/"
    },
    "id": "9l9haA9AloCx",
    "outputId": "0ef318ba-ae63-4267-fa5c-b46509ac91cb"
   },
   "outputs": [
    {
     "data": {
      "text/plain": [
       "[[0, 1, 2], [0, 2, 1], [1, 0, 2], [1, 2, 0], [2, 0, 1], [2, 1, 0]]"
      ]
     },
     "execution_count": 16,
     "metadata": {},
     "output_type": "execute_result"
    }
   ],
   "source": [
    "def perm(n, s=None):\n",
    "    \"\"\"All permutations of n elements.\"\"\"\n",
    "    if s is None: return perm(n, tuple(range(n)))\n",
    "    if not s: return [[]]\n",
    "    return [[i]+p for i in s for p in perm(n, tuple([k for k in s if k!=i]))]\n",
    "\n",
    "perm(3)"
   ]
  },
  {
   "cell_type": "code",
   "execution_count": 17,
   "metadata": {
    "colab": {
     "base_uri": "https://localhost:8080/"
    },
    "id": "1DkSMDl5lsGz",
    "outputId": "62f03132-2254-421b-8126-109b06da460e"
   },
   "outputs": [
    {
     "data": {
      "text/plain": [
       "[((0, 1), (0, 2)), ((0, 2), (1, 2)), ((0, 1), (1, 2))]"
      ]
     },
     "execution_count": 17,
     "metadata": {},
     "output_type": "execute_result"
    }
   ],
   "source": [
    "def permute(g, n):\n",
    "    \"\"\"Create a set of all possible isomorphic codes for a graph, \n",
    "    as nice hashable tuples. All edges are i<j, and sorted lexicographically.\"\"\"\n",
    "    ps = perm(n)\n",
    "    out = set([])\n",
    "    for p in ps:\n",
    "        out.add(tuple(sorted([(p[i],p[j]) if p[i]<p[j] else (p[j],p[i]) for i,j in g])))\n",
    "    return list(out)\n",
    "\n",
    "permute([(0, 1), (0, 2)], 3)"
   ]
  },
  {
   "cell_type": "code",
   "execution_count": 18,
   "metadata": {
    "id": "k6lVOc4Aluru"
   },
   "outputs": [],
   "source": [
    "def connected(g):\n",
    "    \"\"\"Check if the graph is fully connected, with Union-Find.\"\"\"\n",
    "    nodes = set([i for e in g for i in e])\n",
    "    roots = {node: node for node in nodes}\n",
    "    \n",
    "    def _root(node, depth=0):\n",
    "        if node==roots[node]: return (node, depth)\n",
    "        else: return _root(roots[node], depth+1)\n",
    "    \n",
    "    for i,j in g:\n",
    "        ri,di = _root(i)\n",
    "        rj,dj = _root(j)\n",
    "        if ri==rj: continue\n",
    "        if di<=dj: roots[ri] = rj\n",
    "        else:      roots[rj] = ri\n",
    "    return len(set([_root(node)[0] for node in nodes]))==1\n",
    "\n",
    "assert connected([(0, 1), (0, 2), (1, 3)])\n",
    "assert not connected([(0, 1), (2, 3)])         "
   ]
  },
  {
   "cell_type": "code",
   "execution_count": 19,
   "metadata": {
    "id": "zMuIXqXprKHb"
   },
   "outputs": [],
   "source": [
    "mem = set({})\n",
    "def filter(g, target_nv):\n",
    "    \"\"\"Filter all improper graphs: those with not enough nodes, \n",
    "    those not fully connected, and those isomorphic to previously considered.\"\"\"\n",
    "    global mem\n",
    "    nv = len(set([i for e in g for i in e]))\n",
    "    if nv == target_nv and connected(g) and tuple(g) not in mem:\n",
    "        mem |= set(permute(g, target_nv))\n",
    "        return True\n",
    "    return False"
   ]
  },
  {
   "cell_type": "code",
   "execution_count": 20,
   "metadata": {
    "colab": {
     "base_uri": "https://localhost:8080/"
    },
    "id": "Y3FEyGH7mFvT",
    "outputId": "7ac42226-ca91-4da6-981d-26797b8ccae1"
   },
   "outputs": [
    {
     "name": "stdout",
     "output_type": "stream",
     "text": [
      "[(0, 1), (0, 2)]\n"
     ]
    },
    {
     "data": {
      "text/plain": [
       "[[(0, 1), (0, 2)]]"
      ]
     },
     "execution_count": 20,
     "metadata": {},
     "output_type": "execute_result"
    }
   ],
   "source": [
    "# def generate_graph(n=2,e=0):\n",
    "#   out = []\n",
    "#   all_edges = []\n",
    "#   for i in range(n):\n",
    "#     for j in range(i,n):\n",
    "#       if not i == j:\n",
    "#         all_edges.append((i,j))\n",
    "\n",
    "#   N = len(all_edges)\n",
    "#   # enumerate the 2**N possible combinations\n",
    "#   for i in range(2**N):\n",
    "#       combo = []\n",
    "#       for j in range(N):\n",
    "#           # test bit jth of integer i\n",
    "#           if (i >> j) % 2 == 1:\n",
    "#               combo.append(all_edges[j])\n",
    "#       # print(combo)\n",
    "#       if e == 0:\n",
    "#         if len(combo) >= n-1:\n",
    "#           if filter(combo,n):\n",
    "\n",
    "#             out.append(combo)\n",
    "#             print(combo)\n",
    "#       else: \n",
    "#         if len(combo) == e:\n",
    "#           if filter(combo,n):\n",
    "#             print(combo)\n",
    "#             out.append(combo)\n",
    "        \n",
    "#   return out\n",
    "\n",
    "def generate_graph(n=2,e=0):\n",
    "  out = []\n",
    "  all_edges = []\n",
    "  for i in range(n):\n",
    "      for j in range(i,n):\n",
    "          if not i == j:\n",
    "              all_edges.append((i,j))\n",
    "\n",
    "  N = len(all_edges)\n",
    "  # enumerate the 2**N possible combinations\n",
    "  for i in range(2**N):\n",
    "      combo = []\n",
    "      for j in range(N):\n",
    "          # test bit jth of integer i\n",
    "          if (i >> j) % 2 == 1:\n",
    "              combo.append(all_edges[j])\n",
    "      # print(combo)\n",
    "      if e == 0:\n",
    "          if len(combo) >= n-1:\n",
    "              if filter(combo,n):\n",
    "                  out.append(combo)\n",
    "                  print(combo)\n",
    "      else:\n",
    "          if len(combo) == e:\n",
    "              if filter(combo,n):\n",
    "                  print(combo)\n",
    "                  out.append(combo)\n",
    "  return out\n",
    "\n",
    "generate_graph(3,2)"
   ]
  },
  {
   "cell_type": "code",
   "execution_count": 21,
   "metadata": {
    "colab": {
     "base_uri": "https://localhost:8080/"
    },
    "id": "XPEJNzi9lypO",
    "outputId": "4d31ff98-ec74-46ca-b5fe-198f91f8ed2c"
   },
   "outputs": [
    {
     "name": "stdout",
     "output_type": "stream",
     "text": [
      "[(0, 1)]\n",
      "Drawing 1 graphs...\n",
      "."
     ]
    },
    {
     "data": {
      "image/png": "[encoded data removed]",
      "text/plain": [
       "<Figure size 1008x1008 with 1 Axes>"
      ]
     },
     "metadata": {},
     "output_type": "display_data"
    }
   ],
   "source": [
    "# Finally, we can do the calculation and make the plot!\n",
    "mem = set({})\n",
    "\n",
    "gs = generate_graph(2)\n",
    "print(f'Drawing {len(gs)} graphs...')\n",
    "plot_graphs(gs, figsize=14, dotsize=20)"
   ]
  },
  {
   "cell_type": "code",
   "execution_count": 22,
   "metadata": {},
   "outputs": [
    {
     "name": "stdout",
     "output_type": "stream",
     "text": [
      "(['a', 'b', 'c', 'd'], ['ab', 'ac', 'ad', 'bc', 'bd'])\n"
     ]
    }
   ],
   "source": [
    "def change_format(graph,n):\n",
    "    ascii_base = 97\n",
    "    node = []\n",
    "    edge = []\n",
    "\n",
    "    for i in range(n): \n",
    "        node.append(chr(ascii_base + i))    \n",
    "\n",
    "    for i in graph:\n",
    "        edge.append(chr(ascii_base + i[0]) + chr(ascii_base + i[1]))\n",
    "    \n",
    "    return node,edge\n",
    "\n",
    "graph = [(0, 1), (0, 2), (0, 3), (1, 2), (1, 3)]\n",
    "\n",
    "print(change_format(graph,4))"
   ]
  }
 ],
 "metadata": {
  "colab": {
   "collapsed_sections": [],
   "name": "graph.ipynb",
   "provenance": []
  },
  "interpreter": {
   "hash": "369f2c481f4da34e4445cda3fffd2e751bd1c4d706f27375911949ba6bb62e1c"
  },
  "kernelspec": {
   "display_name": "Python 3",
   "language": "python",
   "name": "python3"
  },
  "language_info": {
   "codemirror_mode": {
    "name": "ipython",
    "version": 3
   },
   "file_extension": ".py",
   "mimetype": "text/x-python",
   "name": "python",
   "nbconvert_exporter": "python",
   "pygments_lexer": "ipython3",
   "version": "3.10.1"
  }
 },
 "nbformat": 4,
 "nbformat_minor": 1
}
